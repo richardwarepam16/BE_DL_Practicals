{
 "cells": [
  {
   "cell_type": "code",
   "execution_count": 1,
   "metadata": {},
   "outputs": [],
   "source": [
    "import tensorflow as tf\n",
    "from tensorflow import keras\n",
    "from sklearn.datasets import load_boston\n",
    "from sklearn.preprocessing import StandardScaler\n",
    "from sklearn.model_selection import train_test_split"
   ]
  },
  {
   "cell_type": "code",
   "execution_count": 3,
   "metadata": {},
   "outputs": [],
   "source": [
    "import warnings\n",
    "\n",
    "# ignore all warnings\n",
    "warnings.filterwarnings(\"ignore\")"
   ]
  },
  {
   "cell_type": "code",
   "execution_count": 4,
   "metadata": {},
   "outputs": [],
   "source": [
    "# Load the Boston Housing dataset\n",
    "boston_dataset = load_boston()"
   ]
  },
  {
   "cell_type": "code",
   "execution_count": 5,
   "metadata": {},
   "outputs": [],
   "source": [
    "# Split the dataset into training and testing sets\n",
    "X_train, X_test, y_train, y_test = train_test_split(boston_dataset.data, boston_dataset.target, test_size=0.2, random_state=42)"
   ]
  },
  {
   "cell_type": "code",
   "execution_count": 6,
   "metadata": {},
   "outputs": [],
   "source": [
    "# Scale the features using StandardScaler\n",
    "scaler = StandardScaler()\n",
    "X_train = scaler.fit_transform(X_train)\n",
    "X_test = scaler.transform(X_test)"
   ]
  },
  {
   "cell_type": "code",
   "execution_count": 7,
   "metadata": {},
   "outputs": [],
   "source": [
    "# Define the model using Sequential API\n",
    "model = keras.Sequential([\n",
    "    keras.layers.Dense(64, activation='relu', input_shape=(X_train.shape[1],)),\n",
    "    keras.layers.Dense(64, activation='relu'),\n",
    "    keras.layers.Dense(1)\n",
    "])"
   ]
  },
  {
   "cell_type": "code",
   "execution_count": 8,
   "metadata": {},
   "outputs": [],
   "source": [
    "# Compile the model with mean squared error loss and Adam optimizer\n",
    "model.compile(loss='mse', optimizer='adam', metrics=['mae'])"
   ]
  },
  {
   "cell_type": "code",
   "execution_count": 9,
   "metadata": {},
   "outputs": [],
   "source": [
    "from keras.callbacks import EarlyStopping"
   ]
  },
  {
   "cell_type": "code",
   "execution_count": 10,
   "metadata": {},
   "outputs": [],
   "source": [
    "# Define EarlyStopping callback to stop training if validation loss doesn't improve for 5 epochs\n",
    "early_stopping = EarlyStopping(monitor='val_loss', patience=5)"
   ]
  },
  {
   "cell_type": "code",
   "execution_count": 15,
   "metadata": {},
   "outputs": [
    {
     "name": "stdout",
     "output_type": "stream",
     "text": [
      "Epoch 1/100\n",
      "11/11 [==============================] - 0s 14ms/step - loss: 9.5070 - mae: 2.2267 - val_loss: 15.1865 - val_mae: 2.6334\n",
      "Epoch 2/100\n",
      "11/11 [==============================] - 0s 7ms/step - loss: 9.3526 - mae: 2.2394 - val_loss: 15.1082 - val_mae: 2.6310\n",
      "Epoch 3/100\n",
      "11/11 [==============================] - 0s 6ms/step - loss: 9.2923 - mae: 2.2260 - val_loss: 14.8351 - val_mae: 2.5790\n",
      "Epoch 4/100\n",
      "11/11 [==============================] - 0s 7ms/step - loss: 9.2141 - mae: 2.1947 - val_loss: 14.3741 - val_mae: 2.5451\n",
      "Epoch 5/100\n",
      "11/11 [==============================] - 0s 6ms/step - loss: 9.4698 - mae: 2.2655 - val_loss: 14.6878 - val_mae: 2.6287\n",
      "Epoch 6/100\n",
      "11/11 [==============================] - 0s 6ms/step - loss: 9.2411 - mae: 2.2102 - val_loss: 13.9244 - val_mae: 2.5009\n",
      "Epoch 7/100\n",
      "11/11 [==============================] - 0s 7ms/step - loss: 9.0260 - mae: 2.1713 - val_loss: 14.5717 - val_mae: 2.5593\n",
      "Epoch 8/100\n",
      "11/11 [==============================] - 0s 7ms/step - loss: 8.9801 - mae: 2.1807 - val_loss: 14.6639 - val_mae: 2.5626\n",
      "Epoch 9/100\n",
      "11/11 [==============================] - 0s 6ms/step - loss: 8.9285 - mae: 2.1737 - val_loss: 14.2869 - val_mae: 2.5399\n",
      "Epoch 10/100\n",
      "11/11 [==============================] - 0s 6ms/step - loss: 8.9994 - mae: 2.1802 - val_loss: 14.5253 - val_mae: 2.5409\n",
      "Epoch 11/100\n",
      "11/11 [==============================] - 0s 6ms/step - loss: 8.7545 - mae: 2.1527 - val_loss: 13.8966 - val_mae: 2.5079\n",
      "Epoch 12/100\n",
      "11/11 [==============================] - 0s 6ms/step - loss: 8.8877 - mae: 2.1540 - val_loss: 13.5317 - val_mae: 2.4812\n",
      "Epoch 13/100\n",
      "11/11 [==============================] - 0s 6ms/step - loss: 8.9683 - mae: 2.1808 - val_loss: 14.0928 - val_mae: 2.5577\n",
      "Epoch 14/100\n",
      "11/11 [==============================] - 0s 7ms/step - loss: 8.6852 - mae: 2.1668 - val_loss: 13.4591 - val_mae: 2.4943\n",
      "Epoch 15/100\n",
      "11/11 [==============================] - 0s 6ms/step - loss: 8.7163 - mae: 2.1739 - val_loss: 13.9544 - val_mae: 2.5585\n",
      "Epoch 16/100\n",
      "11/11 [==============================] - 0s 6ms/step - loss: 8.5187 - mae: 2.1414 - val_loss: 14.0032 - val_mae: 2.5536\n",
      "Epoch 17/100\n",
      "11/11 [==============================] - 0s 6ms/step - loss: 8.4879 - mae: 2.1272 - val_loss: 14.2368 - val_mae: 2.5521\n",
      "Epoch 18/100\n",
      "11/11 [==============================] - 0s 6ms/step - loss: 8.3798 - mae: 2.1153 - val_loss: 14.3671 - val_mae: 2.6061\n",
      "Epoch 19/100\n",
      "11/11 [==============================] - 0s 6ms/step - loss: 8.3611 - mae: 2.1258 - val_loss: 14.3205 - val_mae: 2.5863\n",
      "Epoch 20/100\n",
      "11/11 [==============================] - 0s 6ms/step - loss: 8.4751 - mae: 2.1535 - val_loss: 13.3712 - val_mae: 2.5076\n",
      "Epoch 21/100\n",
      "11/11 [==============================] - 0s 6ms/step - loss: 8.4535 - mae: 2.1467 - val_loss: 13.4753 - val_mae: 2.5267\n",
      "Epoch 22/100\n",
      "11/11 [==============================] - 0s 6ms/step - loss: 8.2388 - mae: 2.1126 - val_loss: 14.0211 - val_mae: 2.5641\n",
      "Epoch 23/100\n",
      "11/11 [==============================] - 0s 6ms/step - loss: 8.2294 - mae: 2.1160 - val_loss: 14.3611 - val_mae: 2.5805\n",
      "Epoch 24/100\n",
      "11/11 [==============================] - 0s 6ms/step - loss: 8.1226 - mae: 2.0842 - val_loss: 13.9115 - val_mae: 2.5336\n",
      "Epoch 25/100\n",
      "11/11 [==============================] - 0s 8ms/step - loss: 8.0544 - mae: 2.0804 - val_loss: 14.1750 - val_mae: 2.6005\n",
      "Epoch 26/100\n",
      "11/11 [==============================] - 0s 6ms/step - loss: 7.9067 - mae: 2.0599 - val_loss: 13.5618 - val_mae: 2.4891\n",
      "Epoch 27/100\n",
      "11/11 [==============================] - 0s 8ms/step - loss: 7.8957 - mae: 2.0430 - val_loss: 13.5829 - val_mae: 2.4935\n",
      "Epoch 28/100\n",
      "11/11 [==============================] - 0s 6ms/step - loss: 7.8183 - mae: 2.0471 - val_loss: 13.7838 - val_mae: 2.5348\n",
      "Epoch 29/100\n",
      "11/11 [==============================] - 0s 6ms/step - loss: 7.7573 - mae: 2.0387 - val_loss: 13.5591 - val_mae: 2.5018\n",
      "Epoch 30/100\n",
      "11/11 [==============================] - 0s 6ms/step - loss: 7.7119 - mae: 2.0266 - val_loss: 13.9270 - val_mae: 2.5378\n",
      "Epoch 31/100\n",
      "11/11 [==============================] - 0s 8ms/step - loss: 7.6691 - mae: 2.0389 - val_loss: 13.7868 - val_mae: 2.5434\n",
      "Epoch 32/100\n",
      "11/11 [==============================] - 0s 9ms/step - loss: 7.6207 - mae: 2.0317 - val_loss: 13.6692 - val_mae: 2.5326\n",
      "Epoch 33/100\n",
      "11/11 [==============================] - 0s 14ms/step - loss: 7.7031 - mae: 2.0410 - val_loss: 13.0926 - val_mae: 2.5171\n",
      "Epoch 34/100\n",
      "11/11 [==============================] - 0s 7ms/step - loss: 7.5824 - mae: 2.0302 - val_loss: 13.1773 - val_mae: 2.5326\n",
      "Epoch 35/100\n",
      "11/11 [==============================] - 0s 8ms/step - loss: 7.5557 - mae: 2.0247 - val_loss: 13.6300 - val_mae: 2.5408\n",
      "Epoch 36/100\n",
      "11/11 [==============================] - 0s 9ms/step - loss: 7.4390 - mae: 2.0131 - val_loss: 13.3592 - val_mae: 2.5232\n",
      "Epoch 37/100\n",
      "11/11 [==============================] - 0s 7ms/step - loss: 7.4862 - mae: 2.0253 - val_loss: 13.5194 - val_mae: 2.5305\n",
      "Epoch 38/100\n",
      "11/11 [==============================] - 0s 7ms/step - loss: 7.3519 - mae: 2.0021 - val_loss: 13.5299 - val_mae: 2.5342\n",
      "Epoch 39/100\n",
      "11/11 [==============================] - 0s 7ms/step - loss: 7.2527 - mae: 1.9972 - val_loss: 13.0839 - val_mae: 2.4953\n",
      "Epoch 40/100\n",
      "11/11 [==============================] - 0s 7ms/step - loss: 7.2385 - mae: 1.9810 - val_loss: 13.2954 - val_mae: 2.4964\n",
      "Epoch 41/100\n",
      "11/11 [==============================] - 0s 7ms/step - loss: 7.2551 - mae: 2.0178 - val_loss: 13.5776 - val_mae: 2.5707\n",
      "Epoch 42/100\n",
      "11/11 [==============================] - 0s 6ms/step - loss: 7.0446 - mae: 1.9592 - val_loss: 13.0046 - val_mae: 2.4732\n",
      "Epoch 43/100\n",
      "11/11 [==============================] - 0s 7ms/step - loss: 7.1147 - mae: 1.9767 - val_loss: 13.3153 - val_mae: 2.5431\n",
      "Epoch 44/100\n",
      "11/11 [==============================] - 0s 10ms/step - loss: 6.9305 - mae: 1.9567 - val_loss: 12.4608 - val_mae: 2.4714\n",
      "Epoch 45/100\n",
      "11/11 [==============================] - 0s 7ms/step - loss: 7.1318 - mae: 1.9594 - val_loss: 12.8462 - val_mae: 2.5246\n",
      "Epoch 46/100\n",
      "11/11 [==============================] - 0s 7ms/step - loss: 7.3479 - mae: 2.0270 - val_loss: 12.5921 - val_mae: 2.4700\n",
      "Epoch 47/100\n",
      "11/11 [==============================] - 0s 7ms/step - loss: 7.3902 - mae: 1.9973 - val_loss: 14.4374 - val_mae: 2.5765\n",
      "Epoch 48/100\n",
      "11/11 [==============================] - 0s 8ms/step - loss: 7.7044 - mae: 2.0464 - val_loss: 14.3785 - val_mae: 2.6088\n",
      "Epoch 49/100\n",
      "11/11 [==============================] - 0s 5ms/step - loss: 7.1023 - mae: 1.9934 - val_loss: 13.4870 - val_mae: 2.5107\n",
      "Epoch 50/100\n",
      "11/11 [==============================] - 0s 6ms/step - loss: 6.8352 - mae: 1.9407 - val_loss: 13.5855 - val_mae: 2.5186\n",
      "Epoch 51/100\n",
      "11/11 [==============================] - 0s 6ms/step - loss: 6.7335 - mae: 1.9314 - val_loss: 12.9223 - val_mae: 2.4600\n",
      "Epoch 52/100\n",
      "11/11 [==============================] - 0s 6ms/step - loss: 6.6436 - mae: 1.9216 - val_loss: 13.5527 - val_mae: 2.5617\n",
      "Epoch 53/100\n",
      "11/11 [==============================] - 0s 6ms/step - loss: 6.6043 - mae: 1.9271 - val_loss: 13.7552 - val_mae: 2.5527\n",
      "Epoch 54/100\n",
      "11/11 [==============================] - 0s 6ms/step - loss: 6.5058 - mae: 1.8897 - val_loss: 13.3209 - val_mae: 2.5190\n",
      "Epoch 55/100\n",
      "11/11 [==============================] - 0s 6ms/step - loss: 6.4853 - mae: 1.9091 - val_loss: 13.4876 - val_mae: 2.5530\n",
      "Epoch 56/100\n",
      "11/11 [==============================] - 0s 6ms/step - loss: 6.3557 - mae: 1.8833 - val_loss: 12.8389 - val_mae: 2.4758\n",
      "Epoch 57/100\n",
      "11/11 [==============================] - 0s 6ms/step - loss: 6.4467 - mae: 1.8727 - val_loss: 13.4929 - val_mae: 2.5436\n",
      "Epoch 58/100\n",
      "11/11 [==============================] - 0s 6ms/step - loss: 6.3584 - mae: 1.8783 - val_loss: 13.4337 - val_mae: 2.5689\n",
      "Epoch 59/100\n",
      "11/11 [==============================] - 0s 6ms/step - loss: 6.2518 - mae: 1.8788 - val_loss: 12.5112 - val_mae: 2.4807\n",
      "Epoch 60/100\n",
      "11/11 [==============================] - 0s 7ms/step - loss: 6.3203 - mae: 1.8769 - val_loss: 12.1097 - val_mae: 2.4379\n",
      "Epoch 61/100\n",
      "11/11 [==============================] - 0s 6ms/step - loss: 6.2514 - mae: 1.8796 - val_loss: 12.2825 - val_mae: 2.4466\n",
      "Epoch 62/100\n",
      "11/11 [==============================] - 0s 6ms/step - loss: 6.3460 - mae: 1.9126 - val_loss: 12.9885 - val_mae: 2.5329\n",
      "Epoch 63/100\n",
      "11/11 [==============================] - 0s 6ms/step - loss: 6.2205 - mae: 1.8929 - val_loss: 13.4895 - val_mae: 2.5734\n",
      "Epoch 64/100\n",
      "11/11 [==============================] - 0s 6ms/step - loss: 6.2183 - mae: 1.8988 - val_loss: 13.2636 - val_mae: 2.5600\n",
      "Epoch 65/100\n",
      "11/11 [==============================] - 0s 6ms/step - loss: 6.0231 - mae: 1.8338 - val_loss: 12.5519 - val_mae: 2.4861\n",
      "Epoch 66/100\n",
      "11/11 [==============================] - 0s 6ms/step - loss: 5.8839 - mae: 1.8296 - val_loss: 12.5857 - val_mae: 2.5178\n",
      "Epoch 67/100\n",
      "11/11 [==============================] - 0s 6ms/step - loss: 6.0482 - mae: 1.8623 - val_loss: 12.7737 - val_mae: 2.5409\n",
      "Epoch 68/100\n",
      "11/11 [==============================] - 0s 7ms/step - loss: 6.0155 - mae: 1.8421 - val_loss: 12.4954 - val_mae: 2.4932\n",
      "Epoch 69/100\n",
      "11/11 [==============================] - 0s 6ms/step - loss: 5.8395 - mae: 1.8215 - val_loss: 12.6678 - val_mae: 2.5207\n",
      "Epoch 70/100\n",
      "11/11 [==============================] - 0s 6ms/step - loss: 5.8904 - mae: 1.8311 - val_loss: 13.0577 - val_mae: 2.5630\n",
      "Epoch 71/100\n",
      "11/11 [==============================] - 0s 6ms/step - loss: 5.8538 - mae: 1.8307 - val_loss: 13.0709 - val_mae: 2.5622\n",
      "Epoch 72/100\n",
      "11/11 [==============================] - 0s 6ms/step - loss: 5.8684 - mae: 1.8110 - val_loss: 12.2031 - val_mae: 2.4800\n",
      "Epoch 73/100\n",
      "11/11 [==============================] - 0s 6ms/step - loss: 5.7375 - mae: 1.8230 - val_loss: 12.6704 - val_mae: 2.5401\n",
      "Epoch 74/100\n",
      "11/11 [==============================] - 0s 5ms/step - loss: 5.6747 - mae: 1.7856 - val_loss: 12.6160 - val_mae: 2.5033\n",
      "Epoch 75/100\n",
      "11/11 [==============================] - 0s 6ms/step - loss: 5.6131 - mae: 1.7840 - val_loss: 12.7560 - val_mae: 2.5303\n",
      "Epoch 76/100\n",
      "11/11 [==============================] - 0s 6ms/step - loss: 5.6665 - mae: 1.7911 - val_loss: 12.6534 - val_mae: 2.5364\n",
      "Epoch 77/100\n",
      "11/11 [==============================] - 0s 6ms/step - loss: 5.6952 - mae: 1.8043 - val_loss: 12.9423 - val_mae: 2.5724\n",
      "Epoch 78/100\n",
      "11/11 [==============================] - 0s 6ms/step - loss: 5.5832 - mae: 1.7650 - val_loss: 12.1902 - val_mae: 2.4729\n",
      "Epoch 79/100\n",
      "11/11 [==============================] - 0s 6ms/step - loss: 5.5648 - mae: 1.7562 - val_loss: 12.3760 - val_mae: 2.4938\n",
      "Epoch 80/100\n",
      "11/11 [==============================] - 0s 6ms/step - loss: 5.4975 - mae: 1.7618 - val_loss: 12.7505 - val_mae: 2.5253\n",
      "Epoch 81/100\n",
      "11/11 [==============================] - 0s 6ms/step - loss: 5.5189 - mae: 1.7637 - val_loss: 12.8469 - val_mae: 2.5289\n",
      "Epoch 82/100\n",
      "11/11 [==============================] - 0s 6ms/step - loss: 5.5439 - mae: 1.7819 - val_loss: 12.8041 - val_mae: 2.5329\n",
      "Epoch 83/100\n",
      "11/11 [==============================] - 0s 6ms/step - loss: 5.3854 - mae: 1.7289 - val_loss: 12.4088 - val_mae: 2.4861\n",
      "Epoch 84/100\n",
      "11/11 [==============================] - 0s 7ms/step - loss: 5.3003 - mae: 1.7150 - val_loss: 12.4708 - val_mae: 2.5033\n",
      "Epoch 85/100\n",
      "11/11 [==============================] - 0s 6ms/step - loss: 5.2436 - mae: 1.7136 - val_loss: 12.5808 - val_mae: 2.5195\n",
      "Epoch 86/100\n",
      "11/11 [==============================] - 0s 8ms/step - loss: 5.2616 - mae: 1.7285 - val_loss: 12.8696 - val_mae: 2.5479\n",
      "Epoch 87/100\n",
      "11/11 [==============================] - 0s 6ms/step - loss: 5.2086 - mae: 1.7082 - val_loss: 12.4933 - val_mae: 2.5019\n",
      "Epoch 88/100\n",
      "11/11 [==============================] - 0s 6ms/step - loss: 5.1778 - mae: 1.7022 - val_loss: 12.9437 - val_mae: 2.5631\n",
      "Epoch 89/100\n",
      "11/11 [==============================] - 0s 6ms/step - loss: 5.7152 - mae: 1.8406 - val_loss: 12.6534 - val_mae: 2.5273\n",
      "Epoch 90/100\n",
      "11/11 [==============================] - 0s 6ms/step - loss: 5.2669 - mae: 1.7320 - val_loss: 12.4601 - val_mae: 2.5156\n",
      "Epoch 91/100\n",
      "11/11 [==============================] - 0s 6ms/step - loss: 5.1138 - mae: 1.6897 - val_loss: 12.1752 - val_mae: 2.4937\n",
      "Epoch 92/100\n",
      "11/11 [==============================] - 0s 7ms/step - loss: 5.0876 - mae: 1.6851 - val_loss: 12.4346 - val_mae: 2.5313\n",
      "Epoch 93/100\n",
      "11/11 [==============================] - 0s 5ms/step - loss: 5.1171 - mae: 1.6911 - val_loss: 12.0730 - val_mae: 2.4820\n",
      "Epoch 94/100\n",
      "11/11 [==============================] - 0s 6ms/step - loss: 5.0690 - mae: 1.6758 - val_loss: 12.6520 - val_mae: 2.5360\n",
      "Epoch 95/100\n",
      "11/11 [==============================] - 0s 6ms/step - loss: 5.0991 - mae: 1.7110 - val_loss: 12.9480 - val_mae: 2.5859\n",
      "Epoch 96/100\n",
      "11/11 [==============================] - 0s 6ms/step - loss: 5.3147 - mae: 1.7876 - val_loss: 12.1231 - val_mae: 2.5031\n",
      "Epoch 97/100\n",
      "11/11 [==============================] - 0s 6ms/step - loss: 5.0256 - mae: 1.6857 - val_loss: 11.9421 - val_mae: 2.4892\n",
      "Epoch 98/100\n",
      "11/11 [==============================] - 0s 6ms/step - loss: 5.0614 - mae: 1.6989 - val_loss: 12.3527 - val_mae: 2.5261\n",
      "Epoch 99/100\n",
      "11/11 [==============================] - 0s 6ms/step - loss: 4.9091 - mae: 1.6602 - val_loss: 12.1648 - val_mae: 2.4976\n",
      "Epoch 100/100\n",
      "11/11 [==============================] - 0s 5ms/step - loss: 4.9967 - mae: 1.6961 - val_loss: 12.4924 - val_mae: 2.5406\n"
     ]
    }
   ],
   "source": [
    "# Train the model for 100 epochs with batch size 32\n",
    "history = model.fit(X_train, y_train, epochs=100, batch_size=32, validation_split=0.2)"
   ]
  },
  {
   "cell_type": "code",
   "execution_count": 16,
   "metadata": {},
   "outputs": [
    {
     "name": "stdout",
     "output_type": "stream",
     "text": [
      "4/4 [==============================] - 0s 3ms/step - loss: 12.6345 - mae: 2.4184\n"
     ]
    }
   ],
   "source": [
    "# Evaluate the model on test set\n",
    "test_loss, test_mae = model.evaluate(X_test, y_test)"
   ]
  },
  {
   "cell_type": "code",
   "execution_count": 17,
   "metadata": {},
   "outputs": [
    {
     "name": "stdout",
     "output_type": "stream",
     "text": [
      "Test Loss: 12.63\n",
      "Test MAE: 2.42\n"
     ]
    }
   ],
   "source": [
    "# Print the test loss and test MAE\n",
    "print(f\"Test Loss: {test_loss:.2f}\")\n",
    "print(f\"Test MAE: {test_mae:.2f}\")"
   ]
  },
  {
   "cell_type": "code",
   "execution_count": null,
   "metadata": {},
   "outputs": [],
   "source": []
  }
 ],
 "metadata": {
  "kernelspec": {
   "display_name": "Python 3",
   "language": "python",
   "name": "python3"
  },
  "language_info": {
   "codemirror_mode": {
    "name": "ipython",
    "version": 3
   },
   "file_extension": ".py",
   "mimetype": "text/x-python",
   "name": "python",
   "nbconvert_exporter": "python",
   "pygments_lexer": "ipython3",
   "version": "3.10.6"
  },
  "orig_nbformat": 4
 },
 "nbformat": 4,
 "nbformat_minor": 2
}
